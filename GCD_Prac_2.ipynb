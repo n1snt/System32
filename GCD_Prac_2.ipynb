{
  "nbformat": 4,
  "nbformat_minor": 0,
  "metadata": {
    "colab": {
      "provenance": []
    },
    "kernelspec": {
      "name": "python3",
      "display_name": "Python 3"
    },
    "language_info": {
      "name": "python"
    }
  },
  "cells": [
    {
      "cell_type": "code",
      "execution_count": 1,
      "metadata": {
        "id": "1GQyTACSCcI_"
      },
      "outputs": [],
      "source": [
        "def egcd(a,b):\n",
        "  if a==0:\n",
        "    return (b,0,1)\n",
        "  else:\n",
        "    gcd, x,y = egcd (b % a, a)\n",
        "    return (gcd,y-(b//a)*x,x)"
      ]
    },
    {
      "cell_type": "code",
      "source": [
        "a=int(input(\"Enter a: \"))\n",
        "b=int(input(\"Enter b: \"))\n",
        "gcd, x, y = egcd(a,b)\n",
        "print(\"GCD: \",gcd, \"\\nx: \",x, \"\\ny: \",y)"
      ],
      "metadata": {
        "colab": {
          "base_uri": "https://localhost:8080/"
        },
        "id": "wiKA3d3wCgg_",
        "outputId": "eb6f633b-e7dd-4fb1-cbe6-7258c3ffba21"
      },
      "execution_count": 2,
      "outputs": [
        {
          "output_type": "stream",
          "name": "stdout",
          "text": [
            "Enter a: 1\n",
            "Enter b: 2\n",
            "GCD:  1 \n",
            "x:  1 \n",
            "y:  0\n"
          ]
        }
      ]
    }
  ]
}
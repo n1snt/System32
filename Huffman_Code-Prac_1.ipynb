{
  "nbformat": 4,
  "nbformat_minor": 0,
  "metadata": {
    "colab": {
      "provenance": []
    },
    "kernelspec": {
      "name": "python3",
      "display_name": "Python 3"
    },
    "language_info": {
      "name": "python"
    }
  },
  "cells": [
    {
      "cell_type": "code",
      "execution_count": 2,
      "metadata": {
        "id": "JhKWVC_4BkBb"
      },
      "outputs": [],
      "source": [
        "from heapq import heappush,heappop,heapify\n",
        "from collections import defaultdict"
      ]
    },
    {
      "cell_type": "code",
      "source": [
        "def HuffmanEncode(characterFrequency):\n",
        "    heap=[[freq,[sym,\"\"]]for sym,freq in characterFrequency.items()]\n",
        "    heapify(heap)\n",
        "    while len(heap)>1:\n",
        "        lo=heappop(heap)\n",
        "        hi=heappop(heap)\n",
        "        for pair in lo[1:]:\n",
        "            pair[1]='0'+pair[1]\n",
        "        for pair in hi[1:]:\n",
        "            pair[1]='1'+pair[1]\n",
        "        heappush(heap,[lo[0]+hi[0]]+lo[1:]+hi[1:])\n",
        "    return sorted(heappop(heap)[1:],key=lambda p:(len(p[-1]),p))"
      ],
      "metadata": {
        "id": "QcOWSYe6B6TW"
      },
      "execution_count": 3,
      "outputs": []
    },
    {
      "cell_type": "code",
      "source": [
        "inputText=input('enter word to encrypt:')\n",
        "characterFrequency=defaultdict(int)\n",
        "\n",
        "for character in inputText:\n",
        "    characterFrequency[character]+=1\n",
        "\n",
        "print(characterFrequency)\n",
        "huffCodes=HuffmanEncode(characterFrequency)\n",
        "print(\"Symbol\\t\\tFrequency\\t\\tHuffman Code\")\n",
        "\n",
        "for p in huffCodes:\n",
        "    print(\"%s\\t\\t\\t%s\\t\\t\\t%s\"%(p[0],characterFrequency[p[0]],p[1]))"
      ],
      "metadata": {
        "colab": {
          "base_uri": "https://localhost:8080/"
        },
        "id": "SdXkT71lCCZK",
        "outputId": "f28268a9-3305-4581-b673-c2184187a157"
      },
      "execution_count": 4,
      "outputs": [
        {
          "output_type": "stream",
          "name": "stdout",
          "text": [
            "enter word to encrypt:123\n",
            "defaultdict(<class 'int'>, {'1': 1, '2': 1, '3': 1})\n",
            "Symbol\t\tFrequency\t\tHuffman Code\n",
            "3\t\t\t1\t\t\t0\n",
            "1\t\t\t1\t\t\t10\n",
            "2\t\t\t1\t\t\t11\n"
          ]
        }
      ]
    }
  ]
}
{
  "nbformat": 4,
  "nbformat_minor": 0,
  "metadata": {
    "colab": {
      "provenance": []
    },
    "kernelspec": {
      "name": "python3",
      "display_name": "Python 3"
    },
    "language_info": {
      "name": "python"
    }
  },
  "cells": [
    {
      "cell_type": "code",
      "execution_count": 1,
      "metadata": {
        "id": "pT0_NFX2C_EM"
      },
      "outputs": [],
      "source": [
        "import random"
      ]
    },
    {
      "cell_type": "code",
      "source": [
        "def permuteSort(a):\n",
        "  n = len(a)\n",
        "  while (is_sorted(a)== False):\n",
        "    shuffle(a)\n",
        "def is_sorted(a):\n",
        "  n = len(a)\n",
        "  for i in range(0, n-1):\n",
        "    if (a[i] > a[i+1] ):\n",
        "      return False\n",
        "  return True\n",
        "def shuffle(a):\n",
        "  n = len(a)\n",
        "  for i in range (0,n):\n",
        "     r = random.randint(0,n-1)\n",
        "     print(a)\n",
        "     a[i], a[r] = a[r], a[i]"
      ],
      "metadata": {
        "id": "BUjydOMaDHPs"
      },
      "execution_count": 2,
      "outputs": []
    },
    {
      "cell_type": "code",
      "source": [
        "a=[]\n",
        "n=int(input(\"Enter the number of elements in array: \"))\n",
        "for i in range(0,n):\n",
        "  print(\"Enter\",i,\" element:\")\n",
        "  x=int(input())\n",
        "  a.append(x)\n",
        "print('array before sorting' )\n",
        "print(a)\n",
        "permuteSort(a)\n",
        "print(\"Sorted array :\")\n",
        "print(a)"
      ],
      "metadata": {
        "colab": {
          "base_uri": "https://localhost:8080/"
        },
        "id": "ZrqVO5qPDRlt",
        "outputId": "dc773bd7-918e-4c6d-bea2-711cc131164a"
      },
      "execution_count": 3,
      "outputs": [
        {
          "output_type": "stream",
          "name": "stdout",
          "text": [
            "Enter the number of elements in array: 2\n",
            "Enter 0  element:\n",
            "0\n",
            "Enter 1  element:\n",
            "1\n",
            "array before sorting\n",
            "[0, 1]\n",
            "Sorted array :\n",
            "[0, 1]\n"
          ]
        }
      ]
    }
  ]
}